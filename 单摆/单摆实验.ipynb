{
 "cells": [
  {
   "cell_type": "markdown",
   "metadata": {},
   "source": [
    "# 单摆实验"
   ]
  },
  {
   "cell_type": "code",
   "execution_count": 1,
   "metadata": {},
   "outputs": [],
   "source": [
    "# record experiment results\n",
    "l = [72.08, 72.10, 72.00, 72.02, 72.04] # cm\n",
    "d = [20.00, 19.96, 19.98, 19.96, 19.94] # mm\n",
    "T_50 = [85.91, 85.72, 85.85, 85.94, 85.97] # s\n",
    "n = 50\n",
    "g_shenzhen = 9.7887"
   ]
  },
  {
   "cell_type": "code",
   "execution_count": null,
   "metadata": {},
   "outputs": [],
   "source": [
    "l1 = 0.8 / 0.005\n",
    "t1 = 2 * 0.001 / 0.005"
   ]
  },
  {
   "cell_type": "code",
   "execution_count": 6,
   "metadata": {},
   "outputs": [
    {
     "name": "stdout",
     "output_type": "stream",
     "text": [
      "l_mean: 72.048\n",
      "d_mean: 19.968\n",
      "T_mean: 85.878\n",
      "T: 1.71756\n",
      "g_measure: 9.7754\n",
      "relative_error: 0.0013587095324201352\n",
      "delta_l: 0.36024\n",
      "delta_t: 0.0042939\n",
      "N_min: 47.05882352941177\n"
     ]
    }
   ],
   "source": [
    "import numpy as np\n",
    "\n",
    "def calculate_g(t, l, d, n):\n",
    "    g = 4 * np.pi**2 * (l + d / 2) / (t / n)**2\n",
    "    return g\n",
    "\n",
    "l_mean = np.mean(l)\n",
    "d_mean = np.mean(d)\n",
    "T_mean = np.mean(T_50)\n",
    "t = T_mean / 50\n",
    "\n",
    "print('l_mean:', l_mean)\n",
    "print('d_mean:', d_mean)\n",
    "print('T_mean:', T_mean)\n",
    "print('T:', T_mean / 50)\n",
    "\n",
    "g_measure = calculate_g(T_mean, l_mean/100, d_mean/1000, n).round(4)\n",
    "relative_error = np.abs(g_measure - g_shenzhen) / g_shenzhen\n",
    "\n",
    "print('g_measure:', g_measure)\n",
    "print('relative_error:', relative_error)\n",
    "print('delta_l:', l_mean * 0.005)\n",
    "print('delta_t:', t * 0.005 / 2)\n",
    "print('N_min:', 2*0.2/1.7/0.005)"
   ]
  },
  {
   "cell_type": "code",
   "execution_count": 7,
   "metadata": {},
   "outputs": [
    {
     "name": "stdout",
     "output_type": "stream",
     "text": [
      "u_A_l: 0.0185 cm\n",
      "u_A_D: 0.0102\n",
      "u_A_T: 0.0442\n",
      "u_B_l: 0.3145\n",
      "u_B_D: 0.0163\n",
      "u_B_T: 0.0667\n",
      "u_l: 0.8036 mm\n",
      "u_d: 0.0391 mm\n",
      "u_t: 0.1795 s\n",
      "l_total: 740.448 mm\n",
      "u_l_total: 0.8038 mm\n",
      "u_g: 0.0422\n"
     ]
    }
   ],
   "source": [
    "# calculate the uncertainty\n",
    "def calculate_uncertainty_A(data: list, mean, n):\n",
    "    sum = 0\n",
    "    for i in range(n):\n",
    "        sum += (data[i] - mean)**2\n",
    "    return np.sqrt(sum / (n * (n - 1)))\n",
    "\n",
    "def calculate_uncertainty_B(delta_estimate: float, delta_instrument: float, C):\n",
    "    return np.sqrt(delta_estimate**2 + delta_instrument**2) / C\n",
    "\n",
    "# synthezie the uncertainty at p = 0.95\n",
    "def synthesize_uncertainty(t, u_A, k, u_B):\n",
    "    return np.sqrt((t * u_A)**2 + (k * u_B)**2) \n",
    "    \n",
    "u_A_l = calculate_uncertainty_A(l, l_mean, 5) # cm\n",
    "u_A_D = calculate_uncertainty_A(d, d_mean, 5)\n",
    "u_A_T = calculate_uncertainty_A(T_50, T_mean, 5)\n",
    "\n",
    "print('u_A_l:', u_A_l.round(4), 'cm')\n",
    "print('u_A_D:', u_A_D.round(4))\n",
    "print('u_A_T:', u_A_T.round(4))\n",
    "\n",
    "u_B_l = calculate_uncertainty_B(0.5, 0.8, 3) # mm\n",
    "u_B_D = calculate_uncertainty_B(0.02, 0.02, np.sqrt(3)) # mm\n",
    "u_B_T = calculate_uncertainty_B(0.2, 0.01, 3) # s\n",
    "\n",
    "print('u_B_l:', u_B_l.round(4))\n",
    "print('u_B_D:', u_B_D.round(4))\n",
    "print('u_B_T:', u_B_T.round(4))\n",
    "\n",
    "u_l = synthesize_uncertainty(2.78, u_A_l*10, 1.96, u_B_l)\n",
    "u_d = synthesize_uncertainty(2.78, u_A_D, 1.65, u_B_D)\n",
    "u_t = synthesize_uncertainty(2.78, u_A_T, 1.96, u_B_T)\n",
    "\n",
    "print('u_l:', u_l.round(4), 'mm')\n",
    "print('u_d:', u_d.round(4), 'mm')\n",
    "print('u_t:', u_t.round(4), 's')\n",
    "\n",
    "l_total = l_mean * 10 + d_mean\n",
    "u_l_total = np.sqrt(u_l**2 + (0.5 * u_d)**2)\n",
    "\n",
    "u_g = g_measure * np.sqrt((u_l_total / l_total)**2 + (2 * u_t / T_mean)**2)\n",
    "\n",
    "\n",
    "print('l_total:', l_total.round(4), 'mm')\n",
    "print('u_l_total:', u_l_total.round(4), 'mm')\n",
    "print('u_g:', u_g.round(4)) \n"
   ]
  }
 ],
 "metadata": {
  "kernelspec": {
   "display_name": "Python 3",
   "language": "python",
   "name": "python3"
  },
  "language_info": {
   "codemirror_mode": {
    "name": "ipython",
    "version": 3
   },
   "file_extension": ".py",
   "mimetype": "text/x-python",
   "name": "python",
   "nbconvert_exporter": "python",
   "pygments_lexer": "ipython3",
   "version": "3.12.6"
  }
 },
 "nbformat": 4,
 "nbformat_minor": 2
}
