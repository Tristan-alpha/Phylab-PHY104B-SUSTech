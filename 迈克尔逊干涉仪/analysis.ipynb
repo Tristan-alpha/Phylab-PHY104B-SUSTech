{
 "cells": [
  {
   "cell_type": "code",
   "execution_count": 142,
   "metadata": {},
   "outputs": [
    {
     "data": {
      "text/html": [
       "<div>\n",
       "<style scoped>\n",
       "    .dataframe tbody tr th:only-of-type {\n",
       "        vertical-align: middle;\n",
       "    }\n",
       "\n",
       "    .dataframe tbody tr th {\n",
       "        vertical-align: top;\n",
       "    }\n",
       "\n",
       "    .dataframe thead th {\n",
       "        text-align: right;\n",
       "    }\n",
       "</style>\n",
       "<table border=\"1\" class=\"dataframe\">\n",
       "  <thead>\n",
       "    <tr style=\"text-align: right;\">\n",
       "      <th></th>\n",
       "      <th>Value</th>\n",
       "    </tr>\n",
       "  </thead>\n",
       "  <tbody>\n",
       "    <tr>\n",
       "      <th>0</th>\n",
       "      <td>61.00970</td>\n",
       "    </tr>\n",
       "    <tr>\n",
       "      <th>1</th>\n",
       "      <td>61.02723</td>\n",
       "    </tr>\n",
       "    <tr>\n",
       "      <th>2</th>\n",
       "      <td>61.04366</td>\n",
       "    </tr>\n",
       "    <tr>\n",
       "      <th>3</th>\n",
       "      <td>61.05968</td>\n",
       "    </tr>\n",
       "    <tr>\n",
       "      <th>4</th>\n",
       "      <td>61.07617</td>\n",
       "    </tr>\n",
       "    <tr>\n",
       "      <th>5</th>\n",
       "      <td>61.09316</td>\n",
       "    </tr>\n",
       "    <tr>\n",
       "      <th>6</th>\n",
       "      <td>61.10946</td>\n",
       "    </tr>\n",
       "    <tr>\n",
       "      <th>7</th>\n",
       "      <td>61.12674</td>\n",
       "    </tr>\n",
       "    <tr>\n",
       "      <th>8</th>\n",
       "      <td>61.14310</td>\n",
       "    </tr>\n",
       "    <tr>\n",
       "      <th>9</th>\n",
       "      <td>61.15900</td>\n",
       "    </tr>\n",
       "    <tr>\n",
       "      <th>10</th>\n",
       "      <td>61.17508</td>\n",
       "    </tr>\n",
       "    <tr>\n",
       "      <th>11</th>\n",
       "      <td>61.19123</td>\n",
       "    </tr>\n",
       "  </tbody>\n",
       "</table>\n",
       "</div>"
      ],
      "text/plain": [
       "       Value\n",
       "0   61.00970\n",
       "1   61.02723\n",
       "2   61.04366\n",
       "3   61.05968\n",
       "4   61.07617\n",
       "5   61.09316\n",
       "6   61.10946\n",
       "7   61.12674\n",
       "8   61.14310\n",
       "9   61.15900\n",
       "10  61.17508\n",
       "11  61.19123"
      ]
     },
     "metadata": {},
     "output_type": "display_data"
    }
   ],
   "source": [
    "import pandas as pd\n",
    "import numpy as np\n",
    "\n",
    "data = pd.read_csv('data.csv').astype(float)\n",
    "display(data)"
   ]
  },
  {
   "cell_type": "code",
   "execution_count": 143,
   "metadata": {},
   "outputs": [],
   "source": [
    "data = data.to_numpy()"
   ]
  },
  {
   "cell_type": "code",
   "execution_count": 144,
   "metadata": {},
   "outputs": [
    {
     "name": "stdout",
     "output_type": "stream",
     "text": [
      "661.1222\n",
      "0.51\n"
     ]
    }
   ],
   "source": [
    "def calculate_wave_length(data):\n",
    "    \"\"\"Calculate the wavelength of the laser light using the Michelson interferometer data.\n",
    "    Args:\n",
    "        data (numpy.ndarray): The data from the Michelson interferometer.\n",
    "    Returns:\n",
    "        float: The calculated wavelength of the laser light in nm.\n",
    "    \"\"\"\n",
    "    wave_length = 2 / 50 * abs(sum(data[0:6]) - sum(data[6:12])) / 36 * 1e6\n",
    "    return wave_length[0].round(4)\n",
    "\n",
    "print(calculate_wave_length(data))\n",
    "\n",
    "relative_error = np.abs(636 - 632.8) / 632.8 * 100\n",
    "print(relative_error.round(2))"
   ]
  },
  {
   "cell_type": "code",
   "execution_count": 145,
   "metadata": {},
   "outputs": [
    {
     "name": "stdout",
     "output_type": "stream",
     "text": [
      "逐差法计算平均Δd = 0.0992 mm\n",
      "A类不确定度 uA = 0.25 μm\n",
      "B类不确定度 uB = 0.071 μm\n",
      "合成不确定度 uc(Δd) = 0.360 μm\n",
      "计算波长 λ = 661.1 ± 2.5 nm\n",
      "相对误差 = 4.48%\n"
     ]
    }
   ],
   "source": [
    "N = 550  # 总条纹变化数\n",
    "n_group = 50  # 每组条纹数\n",
    "reference_wavelength = 632.8  # 单位：nm\n",
    "instrument_error = 0.00005  # 仪器误差，单位：mm\n",
    "t = 1.96\n",
    "K_p = 1.96 \n",
    "\n",
    "def process_data(d, k=6):\n",
    "    \"\"\"逐差法处理数据\n",
    "    Args:\n",
    "        d (np.array): 12个原始d值测量数据\n",
    "        k (int): 分组数（默认6组）\n",
    "    Returns:\n",
    "        delta_d (np.array): 逐差法计算结果\n",
    "    \"\"\"\n",
    "    # 将数据分为前后两组\n",
    "    d1 = d[:k]\n",
    "    d2 = d[k:]\n",
    "    return d2 - d1\n",
    "\n",
    "# 计算波长基础值\n",
    "delta_d = process_data(data)\n",
    "delta_d_mean = np.mean(delta_d)\n",
    "wavelength = (2 / 50 * delta_d_mean * 1e6) / 6  # 转换为nm\n",
    "\n",
    "# A类不确定度计算\n",
    "s = np.std(delta_d, ddof=1)  # 贝塞尔公式计算样本标准差\n",
    "uA = s / np.sqrt(len(delta_d))\n",
    "\n",
    "# B类不确定度（仪器误差）\n",
    "uB = instrument_error * np.sqrt(2)\n",
    "\n",
    "# 合成不确定度\n",
    "uc_d = np.sqrt(t * uA**2 + K_p * uB**2)\n",
    "\n",
    "# 波长不确定度计算（误差传递）\n",
    "uc_lambda = wavelength * np.sqrt((uc_d/delta_d_mean)**2 + (0.5/N)**2)\n",
    "\n",
    "# 相对误差计算\n",
    "relative_error = abs((wavelength - reference_wavelength)/reference_wavelength)*100\n",
    "\n",
    "# 结果输出\n",
    "print(f\"逐差法计算平均Δd = {delta_d_mean:.4f} mm\")\n",
    "print(f\"A类不确定度 uA = {uA*1e3:.2f} μm\")\n",
    "print(f\"B类不确定度 uB = {uB*1e3:.3f} μm\")\n",
    "print(f\"合成不确定度 uc(Δd) = {uc_d*1e3:.3f} μm\")\n",
    "print(f\"计算波长 λ = {wavelength:.1f} ± {uc_lambda:.1f} nm\")\n",
    "print(f\"相对误差 = {relative_error:.2f}%\")"
   ]
  }
 ],
 "metadata": {
  "kernelspec": {
   "display_name": "Python 3",
   "language": "python",
   "name": "python3"
  },
  "language_info": {
   "codemirror_mode": {
    "name": "ipython",
    "version": 3
   },
   "file_extension": ".py",
   "mimetype": "text/x-python",
   "name": "python",
   "nbconvert_exporter": "python",
   "pygments_lexer": "ipython3",
   "version": "3.12.6"
  }
 },
 "nbformat": 4,
 "nbformat_minor": 2
}
